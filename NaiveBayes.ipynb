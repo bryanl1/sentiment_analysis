{
  "nbformat": 4,
  "nbformat_minor": 0,
  "metadata": {
    "colab": {
      "name": "NaiveBayes.ipynb",
      "provenance": [],
      "collapsed_sections": []
    },
    "kernelspec": {
      "name": "python3",
      "display_name": "Python 3"
    }
  },
  "cells": [
    {
      "cell_type": "markdown",
      "metadata": {
        "id": "AcF1Bl_XFBeE",
        "colab_type": "text"
      },
      "source": [
        "Using Naive Bayes binary classification for positive or negative sentiment analysis"
      ]
    },
    {
      "cell_type": "code",
      "metadata": {
        "id": "4YNzBHzdE99a",
        "colab_type": "code",
        "outputId": "3dd1a53a-ad57-4cc6-e107-3bc73dec6053",
        "colab": {
          "base_uri": "https://localhost:8080/",
          "height": 33
        }
      },
      "source": [
        "#mount the drive from google drive, where dataset is kept\n",
        "from google.colab import drive\n",
        "drive.mount('/content/drive')"
      ],
      "execution_count": 54,
      "outputs": [
        {
          "output_type": "stream",
          "text": [
            "Drive already mounted at /content/drive; to attempt to forcibly remount, call drive.mount(\"/content/drive\", force_remount=True).\n"
          ],
          "name": "stdout"
        }
      ]
    },
    {
      "cell_type": "markdown",
      "metadata": {
        "id": "yhHZlCMrrUOn",
        "colab_type": "text"
      },
      "source": [
        "#Import tools"
      ]
    },
    {
      "cell_type": "code",
      "metadata": {
        "id": "aH_qvKHze6ac",
        "colab_type": "code",
        "colab": {}
      },
      "source": [
        "# DataFrame for structuring and augmenting data\n",
        "import pandas as pd\n",
        "\n",
        "# Matplot for graphing\n",
        "import matplotlib.pyplot as plt\n",
        "%matplotlib inline\n",
        "\n",
        "# Scikit-learn, for data splitting, metrics, and the NaiveBayes classifier itself\n",
        "from sklearn.model_selection import train_test_split\n",
        "from sklearn.preprocessing import LabelEncoder\n",
        "from sklearn.metrics import confusion_matrix, classification_report, accuracy_score\n",
        "from sklearn.manifold import TSNE\n",
        "from sklearn.feature_extraction.text import TfidfVectorizer\n",
        "\n",
        "# nltk, Natural Language Tool Kit, has many useful tool for working with words\n",
        "import nltk\n",
        "from nltk.corpus import stopwords\n",
        "from  nltk.stem import SnowballStemmer\n",
        "\n",
        "# Tools\n",
        "import re\n",
        "import numpy as np\n",
        "import os"
      ],
      "execution_count": 0,
      "outputs": []
    },
    {
      "cell_type": "code",
      "metadata": {
        "id": "-6omMhxxflSS",
        "colab_type": "code",
        "outputId": "9fc2f4c6-b1ff-4159-ddf1-99be77c9198b",
        "colab": {
          "base_uri": "https://localhost:8080/",
          "height": 33
        }
      },
      "source": [
        "#check for data where it should be\n",
        "print(os.listdir(\"../content/drive/My Drive/sentiment140\"))"
      ],
      "execution_count": 56,
      "outputs": [
        {
          "output_type": "stream",
          "text": [
            "['training.1600000.processed.noemoticon.csv']\n"
          ],
          "name": "stdout"
        }
      ]
    },
    {
      "cell_type": "markdown",
      "metadata": {
        "id": "0JPndeL6rZLj",
        "colab_type": "text"
      },
      "source": [
        "#Load the dataset, augment the data frame"
      ]
    },
    {
      "cell_type": "code",
      "metadata": {
        "id": "GJlMZ5xz_D_j",
        "colab_type": "code",
        "colab": {}
      },
      "source": [
        "df=pd.read_csv('../content/drive/My Drive/sentiment140/training.1600000.processed.noemoticon.csv',encoding=\"ISO-8859-1\", names=[\"target\", \"ids\", \"date\", \"flag\", \"user\", \"text\"])\n",
        "df.drop(['ids','flag','date','user'],axis=1,inplace=True) #drop columns that we don't care about\n",
        "df['target']=df['target'].apply(lambda x: x/4)            #resize the data frame\n",
        "\n",
        "#checking values, Total of 1.6 million, half are postive, other half are negative\n",
        "d1=df[df['target']==1.0]\n",
        "d2=df[df['target']==0.0]\n",
        "df=pd.concat([d1,d2])\n",
        "print(df.shape,df['target'].unique().shape,df[df['target']==1].shape)"
      ],
      "execution_count": 0,
      "outputs": []
    },
    {
      "cell_type": "markdown",
      "metadata": {
        "id": "I0XevbrqreOv",
        "colab_type": "text"
      },
      "source": [
        "#Filter the data, clean out unwanted characters"
      ]
    },
    {
      "cell_type": "code",
      "metadata": {
        "id": "0iIQXdek_VFL",
        "colab_type": "code",
        "colab": {
          "base_uri": "https://localhost:8080/",
          "height": 50
        },
        "outputId": "0f68619d-c22b-44ee-ed4f-1074fb43d8d3"
      },
      "source": [
        "from nltk.stem import PorterStemmer\n",
        "from nltk.corpus import stopwords\n",
        "nltk.download('stopwords') #download the common stopwords list, ex: of,and,the,a, etc...\n",
        "stemmer=PorterStemmer()    #Stemmer attempts to take a word and classify it with\n",
        "def filtr(st):\n",
        "    st=st.lower()\n",
        "    rs=[x for x in st.split() if x not in stopwords.words(\"english\")]\n",
        "    rs=[x for x in rs if (x[0]!='@' and x[:5]!='http')]\n",
        "    rs=[stemmer.stem(word=x) for x in rs]\n",
        "    return ' '.join(rs)\n"
      ],
      "execution_count": 59,
      "outputs": [
        {
          "output_type": "stream",
          "text": [
            "[nltk_data] Downloading package stopwords to /root/nltk_data...\n",
            "[nltk_data]   Package stopwords is already up-to-date!\n"
          ],
          "name": "stdout"
        }
      ]
    },
    {
      "cell_type": "markdown",
      "metadata": {
        "id": "lgiZUVXjrna4",
        "colab_type": "text"
      },
      "source": [
        "#Split the data, and vectorize "
      ]
    },
    {
      "cell_type": "code",
      "metadata": {
        "id": "2lrAkiYo_bAK",
        "colab_type": "code",
        "colab": {}
      },
      "source": [
        "from sklearn.feature_extraction.text import TfidfVectorizer\n",
        "from sklearn.model_selection import train_test_split\n",
        "xtrain,xtest,ytrain,ytest=train_test_split(df['text'],df['target'],test_size=0.1,shuffle=True)"
      ],
      "execution_count": 0,
      "outputs": []
    },
    {
      "cell_type": "code",
      "metadata": {
        "id": "Av9zkyNq_fNk",
        "colab_type": "code",
        "colab": {
          "base_uri": "https://localhost:8080/",
          "height": 131
        },
        "outputId": "bd21b327-712f-43f0-dace-40a27cab7ba9"
      },
      "source": [
        "#Split by words, using Term Frequency, Inverse Document, which scores a word based on frequency\n",
        "tv=TfidfVectorizer(ngram_range=(1,2),max_features=10000,stop_words='english') #limit feature size as you may get lot of features\n",
        "tv.fit(xtrain)"
      ],
      "execution_count": 61,
      "outputs": [
        {
          "output_type": "execute_result",
          "data": {
            "text/plain": [
              "TfidfVectorizer(analyzer='word', binary=False, decode_error='strict',\n",
              "                dtype=<class 'numpy.float64'>, encoding='utf-8',\n",
              "                input='content', lowercase=True, max_df=1.0, max_features=10000,\n",
              "                min_df=1, ngram_range=(1, 2), norm='l2', preprocessor=None,\n",
              "                smooth_idf=True, stop_words='english', strip_accents=None,\n",
              "                sublinear_tf=False, token_pattern='(?u)\\\\b\\\\w\\\\w+\\\\b',\n",
              "                tokenizer=None, use_idf=True, vocabulary=None)"
            ]
          },
          "metadata": {
            "tags": []
          },
          "execution_count": 61
        }
      ]
    },
    {
      "cell_type": "markdown",
      "metadata": {
        "id": "vnHyllVorAm2",
        "colab_type": "text"
      },
      "source": [
        "#Train the model using NaiveBayes, to binary classification"
      ]
    },
    {
      "cell_type": "code",
      "metadata": {
        "id": "F4cLXZ7__q4X",
        "colab_type": "code",
        "colab": {}
      },
      "source": [
        "from sklearn.naive_bayes import MultinomialNB, GaussianNB\n",
        "from sklearn.svm import SVC\n",
        "nb=MultinomialNB(1.5,fit_prior=False) #call NB classifier with no priors\n",
        "xtrain1=tv.transform(xtrain) #put the data into array that function accepts\n",
        "nb.fit(xtrain1,ytrain)\n",
        "pred1=nb.predict(tv.transform(xtest))"
      ],
      "execution_count": 0,
      "outputs": []
    },
    {
      "cell_type": "markdown",
      "metadata": {
        "id": "J32aLc4fq3_l",
        "colab_type": "text"
      },
      "source": [
        "Check accuracy score, and confusion matrix to get insight into validation"
      ]
    },
    {
      "cell_type": "code",
      "metadata": {
        "id": "8ea4ZcWR_u-B",
        "colab_type": "code",
        "colab": {
          "base_uri": "https://localhost:8080/",
          "height": 66
        },
        "outputId": "4f3e7703-dbdd-4a8d-c70f-57a6aea753ad"
      },
      "source": [
        "from sklearn.metrics import confusion_matrix,accuracy_score\n",
        "print(accuracy_score(ytest,pred1))\n",
        "print(confusion_matrix(ytest,pred1))\n",
        "tn, fp, fn, tp  = confusion_matrix(ytest,pred1).ravel()\n",
        "(tn, fp, fn, tp) #true negative, false positive, false negative, true positive"
      ],
      "execution_count": 65,
      "outputs": [
        {
          "output_type": "stream",
          "text": [
            "0.75811875\n",
            "[[61164 18956]\n",
            " [19745 60135]]\n"
          ],
          "name": "stdout"
        }
      ]
    },
    {
      "cell_type": "code",
      "metadata": {
        "id": "PexbFKmzAJjZ",
        "colab_type": "code",
        "colab": {}
      },
      "source": [
        "#use this to test predictions\n",
        "def result(x):\n",
        "    sentiment = \"0\" # 0 is negative, 1 is positive\n",
        "    x=filtr(x)\n",
        "    return nb.predict(tv.transform([x])) "
      ],
      "execution_count": 0,
      "outputs": []
    },
    {
      "cell_type": "markdown",
      "metadata": {
        "id": "QxBpBFHlquqJ",
        "colab_type": "text"
      },
      "source": [
        "\n",
        "Test predictions"
      ]
    },
    {
      "cell_type": "code",
      "metadata": {
        "id": "DyWspg5iAK-C",
        "colab_type": "code",
        "colab": {
          "base_uri": "https://localhost:8080/",
          "height": 115
        },
        "outputId": "0e7b3cf9-cda2-4277-fd09-d736463aecfa"
      },
      "source": [
        "# 0 is negative, 1 is positive\n",
        "print(result('This ipad is bad'))\n",
        "print(result('This ipad is not good'))\n",
        "print(result('This ipad is perfect'))\n",
        "print(result('This ipad is not very good'))\n",
        "print(result('This ipad is not terrible'))\n",
        "print(str(\"Complex example: \"), result('This movie was actually neither that funny, nor super witty.'))"
      ],
      "execution_count": 71,
      "outputs": [
        {
          "output_type": "stream",
          "text": [
            "[0.]\n",
            "[1.]\n",
            "[1.]\n",
            "[1.]\n",
            "[0.]\n",
            "Example:  [1.]\n"
          ],
          "name": "stdout"
        }
      ]
    }
  ]
}